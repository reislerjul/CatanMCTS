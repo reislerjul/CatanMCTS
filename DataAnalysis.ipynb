{
 "cells": [
  {
   "cell_type": "code",
   "execution_count": 16,
   "metadata": {
    "collapsed": true
   },
   "outputs": [],
   "source": [
    "import pandas as pd\n",
    "import csv\n",
    "import matplotlib.pyplot as plot"
   ]
  },
  {
   "cell_type": "markdown",
   "metadata": {},
   "source": [
    "Read in data:"
   ]
  },
  {
   "cell_type": "code",
   "execution_count": 7,
   "metadata": {},
   "outputs": [],
   "source": [
    "weighted = pd.DataFrame.from_csv('199GamesWeighted-20-100.csv')"
   ]
  },
  {
   "cell_type": "markdown",
   "metadata": {},
   "source": [
    "Split data by positions of MCTS AI:"
   ]
  },
  {
   "cell_type": "code",
   "execution_count": 11,
   "metadata": {},
   "outputs": [
    {
     "name": "stdout",
     "output_type": "stream",
     "text": [
      "Number of games from each position:\n",
      "Player 1: 48\n",
      "Player 2: 48\n",
      "Player 3: 65\n",
      "Player 4: 39\n"
     ]
    }
   ],
   "source": [
    "p1 = weighted.loc[weighted['Player 1 Type'] == 3]\n",
    "p2 = weighted.loc[weighted['Player 2 Type'] == 3]\n",
    "p3 = weighted.loc[weighted['Player 3 Type'] == 3]\n",
    "p4 = weighted.loc[weighted['Player 4 Type'] == 3]\n",
    "\n",
    "print(\"Number of games from each position:\")\n",
    "print(\"Player 1: \" + str(p1.shape[0]))\n",
    "print(\"Player 2: \" + str(p2.shape[0]))\n",
    "print(\"Player 3: \" + str(p3.shape[0]))\n",
    "print(\"Player 4: \" + str(p4.shape[0]))"
   ]
  },
  {
   "cell_type": "markdown",
   "metadata": {},
   "source": [
    "Games where the MCTS AI won:"
   ]
  },
  {
   "cell_type": "code",
   "execution_count": 14,
   "metadata": {},
   "outputs": [
    {
     "name": "stdout",
     "output_type": "stream",
     "text": [
      "Number of wins from each position:\n",
      "Player 1: 34\n",
      "Player 2: 41\n",
      "Player 3: 48\n",
      "Player 4: 30\n"
     ]
    }
   ],
   "source": [
    "p1_wins = p1.loc[p1['Winner'] == 1]\n",
    "p2_wins = p2.loc[p2['Winner'] == 2]\n",
    "p3_wins = p3.loc[p3['Winner'] == 3]\n",
    "p4_wins = p4.loc[p4['Winner'] == 4]\n",
    "\n",
    "print(\"Number of wins from each position:\")\n",
    "print(\"Player 1: \" + str(p1_wins.shape[0]))\n",
    "print(\"Player 2: \" + str(p2_wins.shape[0]))\n",
    "print(\"Player 3: \" + str(p3_wins.shape[0]))\n",
    "print(\"Player 4: \" + str(p4_wins.shape[0]))"
   ]
  },
  {
   "cell_type": "markdown",
   "metadata": {},
   "source": [
    "Win rate for each position:"
   ]
  },
  {
   "cell_type": "code",
   "execution_count": 15,
   "metadata": {},
   "outputs": [
    {
     "name": "stdout",
     "output_type": "stream",
     "text": [
      "Win rate for each position:\n",
      "Player 1: 0.7083333333333334\n",
      "Player 2: 0.8541666666666666\n",
      "Player 3: 0.7384615384615385\n",
      "Player 4: 0.7692307692307693\n"
     ]
    }
   ],
   "source": [
    "print(\"Win rate for each position:\")\n",
    "print(\"Player 1: \" + str(p1_wins.shape[0] / p1.shape[0]))\n",
    "print(\"Player 2: \" + str(p2_wins.shape[0] / p2.shape[0]))\n",
    "print(\"Player 3: \" + str(p3_wins.shape[0] / p3.shape[0]))\n",
    "print(\"Player 4: \" + str(p4_wins.shape[0] / p4.shape[0]))"
   ]
  },
  {
   "cell_type": "markdown",
   "metadata": {},
   "source": [
    "Graph the win rates as a bar graph:"
   ]
  },
  {
   "cell_type": "code",
   "execution_count": 41,
   "metadata": {},
   "outputs": [
    {
     "data": {
      "image/png": "[encoded data removed]",
      "text/plain": [
       "<matplotlib.figure.Figure at 0x11be10898>"
      ]
     },
     "metadata": {},
     "output_type": "display_data"
    }
   ],
   "source": [
    "height = [p1_wins.shape[0] / p1.shape[0] * 100, p2_wins.shape[0] / p2.shape[0] * 100, \\\n",
    "         p3_wins.shape[0] / p3.shape[0] * 100, p4_wins.shape[0] / p4.shape[0] * 100]\n",
    "fig, ax = plot.subplots()\n",
    "bar = ax.bar([1, 2, 3, 4], height, align='center', tick_label=[1, 2, 3, 4])\n",
    "bar[0].set_color('r')\n",
    "bar[2].set_color('b')\n",
    "bar[1].set_color('purple')\n",
    "bar[3].set_color('g')\n",
    "plot.title(\"Win Percentage of Weighted UCB1 AI from Different Spots\")\n",
    "plot.ylabel('Win Percentage')\n",
    "plot.xlabel('Order in Game')\n",
    "ax.axis([0, 5, 0, 100])\n",
    "\n",
    "def autolabel(rects):\n",
    "    \"\"\"\n",
    "    Attach a text label above each bar displaying its height\n",
    "    \"\"\"\n",
    "    for rect in rects:\n",
    "        height = rect.get_height()\n",
    "        ax.text(rect.get_x() + rect.get_width()/2., 1.01*height,\n",
    "                '%d' % int(height),\n",
    "                ha='center', va='bottom')\n",
    "\n",
    "autolabel(bar)\n",
    "\n",
    "plot.show()"
   ]
  },
  {
   "cell_type": "markdown",
   "metadata": {},
   "source": [
    "Overall win percentage:"
   ]
  },
  {
   "cell_type": "code",
   "execution_count": 40,
   "metadata": {},
   "outputs": [
    {
     "name": "stdout",
     "output_type": "stream",
     "text": [
      "Total Number of Wins: 153\n",
      "Total Number of Games Played: 200\n",
      "Overall Win Rate: 76.5%\n"
     ]
    }
   ],
   "source": [
    "num_wins = p1_wins.shape[0] + p2_wins.shape[0] + p3_wins.shape[0] + p4_wins.shape[0]\n",
    "num_plays = p1.shape[0] + p2.shape[0] + p3.shape[0] + p4.shape[0]\n",
    "print(\"Total Number of Wins: \" + str(num_wins))\n",
    "print(\"Total Number of Games Played: \" + str(num_plays))\n",
    "print(\"Overall Win Rate: \" + str(100 * num_wins / num_plays) + \"%\")"
   ]
  }
 ],
 "metadata": {
  "kernelspec": {
   "display_name": "Python 3",
   "language": "python",
   "name": "python3"
  },
  "language_info": {
   "codemirror_mode": {
    "name": "ipython",
    "version": 3
   },
   "file_extension": ".py",
   "mimetype": "text/x-python",
   "name": "python",
   "nbconvert_exporter": "python",
   "pygments_lexer": "ipython3",
   "version": "3.6.2"
  }
 },
 "nbformat": 4,
 "nbformat_minor": 2
}
