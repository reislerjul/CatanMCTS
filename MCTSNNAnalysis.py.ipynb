{
 "cells": [
  {
   "cell_type": "code",
   "execution_count": 1,
   "metadata": {
    "collapsed": true
   },
   "outputs": [],
   "source": [
    "import pandas as pd \n",
    "import matplotlib.pyplot as plt\n",
    "import numpy as np"
   ]
  },
  {
   "cell_type": "code",
   "execution_count": 2,
   "metadata": {
    "collapsed": true
   },
   "outputs": [],
   "source": [
    "data = pd.read_csv(\"../CatanResults/catan_results_MCTSNN.csv\")"
   ]
  },
  {
   "cell_type": "code",
   "execution_count": 5,
   "metadata": {},
   "outputs": [
    {
     "data": {
      "text/plain": [
       "0.1693548387096774"
      ]
     },
     "execution_count": 5,
     "metadata": {},
     "output_type": "execute_result"
    }
   ],
   "source": [
    "data['Winner Type'].value_counts()['MCTSNN'] / len(data)"
   ]
  },
  {
   "cell_type": "code",
   "execution_count": 7,
   "metadata": {},
   "outputs": [
    {
     "data": {
      "text/plain": [
       "Random    206\n",
       "MCTSNN     42\n",
       "Name: Winner Type, dtype: int64"
      ]
     },
     "execution_count": 7,
     "metadata": {},
     "output_type": "execute_result"
    }
   ],
   "source": [
    "data['Winner Type'].value_counts()"
   ]
  },
  {
   "cell_type": "code",
   "execution_count": 8,
   "metadata": {
    "collapsed": true
   },
   "outputs": [],
   "source": [
    "MCTSfirst = data.loc[data['First Player Type'] == \"MCTSNN\"]\n",
    "MCTSsecond = data.loc[data['Second Player Type'] == \"MCTSNN\"]\n",
    "MCTSthird = data.loc[data['Third Player Type'] == \"MCTSNN\"]"
   ]
  },
  {
   "cell_type": "code",
   "execution_count": 9,
   "metadata": {
    "collapsed": true
   },
   "outputs": [],
   "source": [
    "p3_vals = MCTSthird['Third Player VP'].value_counts()\n",
    "p2_vals = MCTSsecond['Second Player VP'].value_counts()\n",
    "p1_vals = MCTSfirst['First Player VP'].value_counts()"
   ]
  },
  {
   "cell_type": "code",
   "execution_count": 19,
   "metadata": {},
   "outputs": [
    {
     "data": {
      "text/plain": [
       "2     39\n",
       "3     13\n",
       "10     7\n",
       "5      6\n",
       "4      5\n",
       "7      3\n",
       "6      2\n",
       "11     1\n",
       "8      1\n",
       "Name: Third Player VP, dtype: int64"
      ]
     },
     "execution_count": 19,
     "metadata": {},
     "output_type": "execute_result"
    }
   ],
   "source": [
    "p3_vals"
   ]
  },
  {
   "cell_type": "code",
   "execution_count": 20,
   "metadata": {},
   "outputs": [],
   "source": [
    "p3 = np.asarray([p3_vals[2], p3_vals[3], p3_vals[4], p3_vals[5], p3_vals[6], \\\n",
    "     p3_vals[7], p3_vals[8], 0, p3_vals[10], p3_vals[11], 0])\n",
    "p2 = np.asarray([p2_vals[2], p2_vals[3], p2_vals[4], p2_vals[5], \\\n",
    "     p2_vals[6], p2_vals[7], p2_vals[8], p2_vals[9], p2_vals[10], p2_vals[11], 0])\n",
    "p1 = np.asarray([p1_vals[2], p1_vals[3], p1_vals[4], p1_vals[5], 0, \\\n",
    "     p1_vals[7], p1_vals[8], 0, p1_vals[10], p1_vals[11], 0])\n",
    "p3 = tuple(p3 / len(MCTSthird))\n",
    "p2 = tuple(p2 / len(MCTSsecond))\n",
    "p1 = tuple(p1 / len(MCTSfirst))"
   ]
  },
  {
   "cell_type": "code",
   "execution_count": 25,
   "metadata": {},
   "outputs": [
    {
     "data": {
      "image/png": "[encoded data removed]",
      "text/plain": [
       "<matplotlib.figure.Figure at 0x11e9d0f60>"
      ]
     },
     "metadata": {},
     "output_type": "display_data"
    }
   ],
   "source": [
    "width = 0.2\n",
    "ind = np.asarray((2, 3, 4, 5, 6, 7, 8, 9, 10, 11, 12))\n",
    "pl1 = plt.bar(ind - width, p1, width)\n",
    "pl2 = plt.bar(ind, p2, width)\n",
    "pl3 = plt.bar(ind + width, p3, width)\n",
    "plt.xticks(ind)\n",
    "plt.xlabel('MCTS AI Victory Points')\n",
    "plt.ylabel('% of Games')\n",
    "plt.legend((pl1[0], pl2[0], pl3[0]), \\\n",
    "           ('Seat 1. Win: 20.00%', 'Seat 2. Win: 19.80%', 'Seat 3. Win: 10.39%'))\n",
    "plt.show()"
   ]
  },
  {
   "cell_type": "code",
   "execution_count": 22,
   "metadata": {
    "collapsed": true
   },
   "outputs": [],
   "source": [
    "winsFirst = MCTSfirst['Winner Num'].value_counts()\n",
    "winsSecond = MCTSsecond['Winner Num'].value_counts()\n",
    "winsThird = MCTSthird['Winner Num'].value_counts()"
   ]
  },
  {
   "cell_type": "code",
   "execution_count": 23,
   "metadata": {
    "collapsed": true
   },
   "outputs": [],
   "source": [
    "p1_win_rate = winsFirst[1] / (winsFirst[1] + winsFirst[2] + winsFirst[3])\n",
    "p2_win_rate = winsSecond[2] / (winsSecond[1] + winsSecond[2] + winsSecond[3])\n",
    "p3_win_rate = winsThird[3] / (winsThird[1] + winsThird[2] + winsThird[3])"
   ]
  },
  {
   "cell_type": "code",
   "execution_count": 24,
   "metadata": {},
   "outputs": [
    {
     "name": "stdout",
     "output_type": "stream",
     "text": [
      "0.2\n",
      "0.19801980198019803\n",
      "0.1038961038961039\n"
     ]
    }
   ],
   "source": [
    "print(p1_win_rate)\n",
    "print(p2_win_rate)\n",
    "print(p3_win_rate)"
   ]
  },
  {
   "cell_type": "code",
   "execution_count": 26,
   "metadata": {},
   "outputs": [
    {
     "data": {
      "text/plain": [
       "14.040322580645162"
      ]
     },
     "execution_count": 26,
     "metadata": {},
     "output_type": "execute_result"
    }
   ],
   "source": [
    "((MCTSfirst['Num Initial Dots Player 1'].count() * \\\n",
    "MCTSfirst['Num Initial Dots Player 1'].mean()) + \\\n",
    "(MCTSsecond['Num Initial Dots Player 2'].count() * \\\n",
    "MCTSsecond['Num Initial Dots Player 2'].mean()) + \\\n",
    "(MCTSthird['Num Initial Dots Player 3'].count() * \\\n",
    "MCTSthird['Num Initial Dots Player 3'].mean())) / \\\n",
    "(MCTSfirst['Num Initial Dots Player 1'].count() + \\\n",
    "MCTSsecond['Num Initial Dots Player 2'].count() + \\\n",
    "MCTSthird['Num Initial Dots Player 3'].count())"
   ]
  },
  {
   "cell_type": "code",
   "execution_count": 27,
   "metadata": {},
   "outputs": [
    {
     "data": {
      "text/plain": [
       "12.90524193548387"
      ]
     },
     "execution_count": 27,
     "metadata": {},
     "output_type": "execute_result"
    }
   ],
   "source": [
    "((MCTSfirst['Num Initial Dots Player 2'].count() * \\\n",
    "(MCTSfirst['Num Initial Dots Player 2'].mean() + \\\n",
    " MCTSfirst['Num Initial Dots Player 3'].mean())) + \\\n",
    "(MCTSsecond['Num Initial Dots Player 2'].count() * \\\n",
    "(MCTSsecond['Num Initial Dots Player 1'].mean() + \\\n",
    " MCTSsecond['Num Initial Dots Player 3'].mean())) + \\\n",
    "(MCTSthird['Num Initial Dots Player 2'].count() * \\\n",
    "(MCTSthird['Num Initial Dots Player 1'].mean() + \\\n",
    " MCTSthird['Num Initial Dots Player 2'].mean()))) / \\\n",
    "(2 * (MCTSfirst['Num Initial Dots Player 1'].count() + \\\n",
    "MCTSsecond['Num Initial Dots Player 2'].count() + \\\n",
    "MCTSthird['Num Initial Dots Player 3'].count()))"
   ]
  },
  {
   "cell_type": "code",
   "execution_count": 28,
   "metadata": {},
   "outputs": [
    {
     "data": {
      "text/plain": [
       "4.69758064516129"
      ]
     },
     "execution_count": 28,
     "metadata": {},
     "output_type": "execute_result"
    }
   ],
   "source": [
    "data['MCTS Num Devs Bought'].mean()"
   ]
  },
  {
   "cell_type": "code",
   "execution_count": 29,
   "metadata": {},
   "outputs": [
    {
     "data": {
      "text/plain": [
       "0.14919354838709678"
      ]
     },
     "execution_count": 29,
     "metadata": {},
     "output_type": "execute_result"
    }
   ],
   "source": [
    "devs_not_played = data['MCTS Num Devs Bought'] - data['MCTS Num Knights Played'] - \\\n",
    "data['MCTS Num YOP Played'] - data['MCTS Num Monopoly Played'] - \\\n",
    "data['MCTS Num Road Builder Played'] - data['MCTS Num VP Dev Cards']\n",
    "devs_not_played.mean()"
   ]
  },
  {
   "cell_type": "code",
   "execution_count": 30,
   "metadata": {},
   "outputs": [
    {
     "data": {
      "text/plain": [
       "0.10080645161290322"
      ]
     },
     "execution_count": 30,
     "metadata": {},
     "output_type": "execute_result"
    }
   ],
   "source": [
    "data['MCTS Num Cities'].mean()"
   ]
  },
  {
   "cell_type": "code",
   "execution_count": 31,
   "metadata": {},
   "outputs": [
    {
     "data": {
      "text/plain": [
       "2.314516129032258"
      ]
     },
     "execution_count": 31,
     "metadata": {},
     "output_type": "execute_result"
    }
   ],
   "source": [
    "data['MCTS Num Settlements'].mean()"
   ]
  },
  {
   "cell_type": "code",
   "execution_count": 32,
   "metadata": {},
   "outputs": [
    {
     "data": {
      "text/plain": [
       "7.028225806451613"
      ]
     },
     "execution_count": 32,
     "metadata": {},
     "output_type": "execute_result"
    }
   ],
   "source": [
    "data['MCTS Num Roads'].mean()"
   ]
  },
  {
   "cell_type": "code",
   "execution_count": 33,
   "metadata": {},
   "outputs": [
    {
     "data": {
      "text/plain": [
       "13.540322580645162"
      ]
     },
     "execution_count": 33,
     "metadata": {},
     "output_type": "execute_result"
    }
   ],
   "source": [
    "data['MCTS Total Trades Accepted'].mean()"
   ]
  },
  {
   "cell_type": "code",
   "execution_count": 34,
   "metadata": {},
   "outputs": [
    {
     "data": {
      "text/plain": [
       "31.467741935483872"
      ]
     },
     "execution_count": 34,
     "metadata": {},
     "output_type": "execute_result"
    }
   ],
   "source": [
    "data['MCTS Trades Proposed Successfully'].mean()"
   ]
  },
  {
   "cell_type": "code",
   "execution_count": 35,
   "metadata": {},
   "outputs": [
    {
     "data": {
      "text/plain": [
       "0.13009708737864079"
      ]
     },
     "execution_count": 35,
     "metadata": {},
     "output_type": "execute_result"
    }
   ],
   "source": [
    "(len(MCTSfirst.loc[MCTSfirst['Largest Army Player'] == 1]) + \\\n",
    "len(MCTSsecond.loc[MCTSsecond['Largest Army Player'] == 2]) + \\\n",
    "len(MCTSthird.loc[MCTSthird['Largest Army Player'] == 3])) / 515"
   ]
  },
  {
   "cell_type": "code",
   "execution_count": 36,
   "metadata": {},
   "outputs": [
    {
     "data": {
      "text/plain": [
       "0.09514563106796116"
      ]
     },
     "execution_count": 36,
     "metadata": {},
     "output_type": "execute_result"
    }
   ],
   "source": [
    "(len(MCTSfirst.loc[MCTSfirst['Longest Road Player'] == 1]) + \\\n",
    "len(MCTSsecond.loc[MCTSsecond['Longest Road Player'] == 2]) + \\\n",
    "len(MCTSthird.loc[MCTSthird['Longest Road Player'] == 3])) / 515"
   ]
  },
  {
   "cell_type": "code",
   "execution_count": 38,
   "metadata": {},
   "outputs": [
    {
     "data": {
      "text/plain": [
       "0.6370967741935484"
      ]
     },
     "execution_count": 38,
     "metadata": {},
     "output_type": "execute_result"
    }
   ],
   "source": [
    "data['MCTS Num Ports'].mean()"
   ]
  },
  {
   "cell_type": "code",
   "execution_count": 39,
   "metadata": {},
   "outputs": [
    {
     "data": {
      "text/plain": [
       "134.85887096774192"
      ]
     },
     "execution_count": 39,
     "metadata": {},
     "output_type": "execute_result"
    }
   ],
   "source": [
    "data['MCTS Total Trades Proposed'].mean()"
   ]
  },
  {
   "cell_type": "code",
   "execution_count": 40,
   "metadata": {},
   "outputs": [
    {
     "data": {
      "text/plain": [
       "89.45161290322581"
      ]
     },
     "execution_count": 40,
     "metadata": {},
     "output_type": "execute_result"
    }
   ],
   "source": [
    "data['Number Rounds'].mean()"
   ]
  },
  {
   "cell_type": "code",
   "execution_count": 46,
   "metadata": {},
   "outputs": [
    {
     "data": {
      "text/plain": [
       "1.507618103137396"
      ]
     },
     "execution_count": 46,
     "metadata": {},
     "output_type": "execute_result"
    }
   ],
   "source": [
    "data['MCTS Total Trades Proposed'].mean() / data['Number Rounds'].mean()"
   ]
  },
  {
   "cell_type": "code",
   "execution_count": null,
   "metadata": {
    "collapsed": true
   },
   "outputs": [],
   "source": []
  }
 ],
 "metadata": {
  "kernelspec": {
   "display_name": "Python 3",
   "language": "python",
   "name": "python3"
  },
  "language_info": {
   "codemirror_mode": {
    "name": "ipython",
    "version": 3
   },
   "file_extension": ".py",
   "mimetype": "text/x-python",
   "name": "python",
   "nbconvert_exporter": "python",
   "pygments_lexer": "ipython3",
   "version": "3.6.2"
  }
 },
 "nbformat": 4,
 "nbformat_minor": 2
}
