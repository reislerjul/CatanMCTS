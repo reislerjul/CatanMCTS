{
 "cells": [
  {
   "cell_type": "code",
   "execution_count": 1,
   "metadata": {
    "collapsed": true
   },
   "outputs": [],
   "source": [
    "import pandas as pd \n",
    "import matplotlib.pyplot as plt\n",
    "import numpy as np"
   ]
  },
  {
   "cell_type": "code",
   "execution_count": 2,
   "metadata": {
    "collapsed": true
   },
   "outputs": [],
   "source": [
    "data = pd.read_csv(\"../CatanResults/catan_results_random.csv\")"
   ]
  },
  {
   "cell_type": "code",
   "execution_count": 3,
   "metadata": {
    "collapsed": true
   },
   "outputs": [],
   "source": [
    "data = data.drop(['Fourth Player Type', 'MCTS Num Road Builder Played', \n",
    "                   'MCTS Num VP Dev Cards', 'MCTS Num Devs Bought',\n",
    "                   'MCTS Total Trades Accepted', 'MCTS Trades Proposed Successfully', \n",
    "                  'MCTS Num Monopoly Played', 'MCTS Num Roads', 'MCTS Num Cities', \n",
    "                  'MCTS Num Settlements', 'Num Initial Dots Player 4', \n",
    "          'MCTS Num Ports', 'MCTS Num Knights Played', 'MCTS Num YOP Played', \n",
    "           'MCTS Total Trades Proposed', 'Fourth Player VP'], axis=1)"
   ]
  },
  {
   "cell_type": "code",
   "execution_count": 4,
   "metadata": {
    "collapsed": true
   },
   "outputs": [],
   "source": [
    "avg_num_round = data['Number Rounds'].mean()\n",
    "avg_vp_p1 = data['First Player VP'].mean()\n",
    "avg_vp_p2 = data['Second Player VP'].mean()\n",
    "avg_vp_p3 = data['Third Player VP'].mean()\n",
    "wins = data['Winner Num'].value_counts()\n",
    "p1_win_rate = wins[1] / (wins[1] + wins[2] + wins[3])\n",
    "p2_win_rate = wins[2] / (wins[1] + wins[2] + wins[3])\n",
    "p3_win_rate = wins[3] / (wins[1] + wins[2] + wins[3])\n",
    "avg_dots_to_start = (data['Num Initial Dots Player 1'].mean() + \n",
    "                     data['Num Initial Dots Player 2'].mean() + \n",
    "                     data['Num Initial Dots Player 1'].mean()) / 3\n"
   ]
  },
  {
   "cell_type": "code",
   "execution_count": 5,
   "metadata": {},
   "outputs": [
    {
     "name": "stdout",
     "output_type": "stream",
     "text": [
      "6.6583\n",
      "0.3381\n",
      "3.007764248503665\n",
      "6.6491\n",
      "0.3334\n",
      "2.9929024268248425\n",
      "6.605\n",
      "0.3285\n",
      "2.9979449240065414\n"
     ]
    }
   ],
   "source": [
    "print(avg_vp_p1)\n",
    "print(p1_win_rate)\n",
    "print(data['First Player VP'].std())\n",
    "print(avg_vp_p2)\n",
    "print(p2_win_rate)\n",
    "print(data['Second Player VP'].std())\n",
    "print(avg_vp_p3)\n",
    "print(p3_win_rate)\n",
    "print(data['Third Player VP'].std())"
   ]
  },
  {
   "cell_type": "code",
   "execution_count": 8,
   "metadata": {
    "collapsed": true
   },
   "outputs": [],
   "source": [
    "p3_vals = data['Third Player VP'].value_counts()\n",
    "p2_vals = data['Second Player VP'].value_counts()\n",
    "p1_vals = data['First Player VP'].value_counts()\n",
    "\n",
    "p3 = np.asarray([p3_vals[2], p3_vals[3], p3_vals[4], p3_vals[5], p3_vals[6], \\\n",
    "     p3_vals[7], p3_vals[8], p3_vals[9], p3_vals[10], p3_vals[11], p3_vals[12]])\n",
    "p2 = np.asarray([p2_vals[2], p2_vals[3], p2_vals[4], p2_vals[5], p2_vals[6], \\\n",
    "     p2_vals[7], p2_vals[8], p2_vals[9], p2_vals[10], p2_vals[11], p2_vals[12]])\n",
    "p1 = np.asarray([p1_vals[2], p1_vals[3], p1_vals[4], p1_vals[5], p1_vals[6], \\\n",
    "     p1_vals[7], p1_vals[8], p1_vals[9], p1_vals[10], p1_vals[11], p1_vals[12]])\n",
    "p3 = tuple(p3 / 10000)\n",
    "p2 = tuple(p2 / 10000)\n",
    "p1 = tuple(p1 / 10000)"
   ]
  },
  {
   "cell_type": "code",
   "execution_count": 11,
   "metadata": {},
   "outputs": [
    {
     "data": {
      "image/png": "[encoded data removed]",
      "text/plain": [
       "<matplotlib.figure.Figure at 0x116cf58d0>"
      ]
     },
     "metadata": {},
     "output_type": "display_data"
    }
   ],
   "source": [
    "width = 0.2\n",
    "ind = np.asarray((2, 3, 4, 5, 6, 7, 8, 9, 10, 11, 12))\n",
    "pl1 = plt.bar(ind - width, p1, width)\n",
    "pl2 = plt.bar(ind, p2, width)\n",
    "pl3 = plt.bar(ind + width, p3, width)\n",
    "plt.xticks(ind)\n",
    "plt.xlabel('Victory Points')\n",
    "plt.ylabel('% of Total Games')\n",
    "plt.legend((pl1[0], pl2[0], pl3[0]), \\\n",
    "           ('Seat 1. Win: 33.81%', 'Seat 2. Win: 33.34%', 'Seat 3. Win: 32.85%'))\n",
    "plt.show()"
   ]
  },
  {
   "cell_type": "code",
   "execution_count": null,
   "metadata": {
    "collapsed": true
   },
   "outputs": [],
   "source": []
  }
 ],
 "metadata": {
  "kernelspec": {
   "display_name": "Python 3",
   "language": "python",
   "name": "python3"
  },
  "language_info": {
   "codemirror_mode": {
    "name": "ipython",
    "version": 3
   },
   "file_extension": ".py",
   "mimetype": "text/x-python",
   "name": "python",
   "nbconvert_exporter": "python",
   "pygments_lexer": "ipython3",
   "version": "3.6.2"
  }
 },
 "nbformat": 4,
 "nbformat_minor": 2
}
